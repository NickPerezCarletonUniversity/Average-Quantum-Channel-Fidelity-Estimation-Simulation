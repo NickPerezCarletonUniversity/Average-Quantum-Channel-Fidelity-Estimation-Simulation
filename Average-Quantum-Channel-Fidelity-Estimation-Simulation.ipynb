{
 "cells": [
  {
   "cell_type": "markdown",
   "id": "bulgarian-fleet",
   "metadata": {},
   "source": [
    "#### Code by Nicolas Perez\n",
    "\n",
    "#### MIT license. Much appreciated if: credit is given to Nicolas Perez, a reference to the \"A Framework for Authenticity, Integrity and Replay Protection in QuantumData Communication\" paper is made explicit, and credit is given to all of the authors of the paper. \n",
    "\n",
    "### The code in this notebook is for the replay detection simulation in the \"A Framework for Authenticity, Integrity and Replay Protection in QuantumData Communication\" paper."
   ]
  },
  {
   "cell_type": "code",
   "execution_count": null,
   "id": "developed-carrier",
   "metadata": {},
   "outputs": [],
   "source": [
    "import numpy as np\n",
    "from math import sqrt\n",
    "import cmath\n",
    "from scipy.stats import unitary_group\n",
    "import random\n",
    "import scipy.stats\n",
    "import os\n",
    "from tabulate import tabulate"
   ]
  },
  {
   "cell_type": "code",
   "execution_count": null,
   "id": "floating-fiber",
   "metadata": {},
   "outputs": [],
   "source": [
    "def depolarizing_channel(lambda_param, qubit):\n",
    "    return lambda_param * qubit + ((1 - lambda_param)/2)*np.identity(2)\n",
    "\n",
    "def depolarize_states(lambda_param, states):\n",
    "    new_states = []\n",
    "    for state in states:\n",
    "        new_states.append(depolarizing_channel(lambda_param, state))\n",
    "    return new_states\n",
    "\n",
    "def normal_distribution_confidence_interval(data):\n",
    "    data = 1.0 * np.array(data)\n",
    "    mean = np.mean(data)\n",
    "    sem = scipy.stats.sem(data)\n",
    "    diff = sem * 1.96\n",
    "    m_str = \"%.2f\" % round(mean, 2)\n",
    "    diff_str = \"%.2f\" % round(diff, 2)\n",
    "    confidence_interval_string = \"$\" + m_str + \"\\pm\" + diff_str + \"$\"\n",
    "    print(confidence_interval_string)\n",
    "    return mean-diff, mean, mean+diff, confidence_interval_string\n",
    "\n",
    "def generate_random_unitary_matrix():\n",
    "    return unitary_group.rvs(2)\n",
    "\n",
    "def generate_pairs_of_random_unitaries_and_states(num_states):\n",
    "    unitaries_list = []\n",
    "    states_list = []\n",
    "    for i in range(num_states):\n",
    "        random_unitary_matrix = generate_random_unitary_matrix()\n",
    "        unitaries_list.append(random_unitary_matrix)\n",
    "        state_vector = np.matmul(random_unitary_matrix, np.array([0,1]))\n",
    "        density_matrix_state = np.outer(state_vector, np.conj(state_vector))\n",
    "        states_list.append(density_matrix_state)\n",
    "    return unitaries_list, states_list\n",
    "\n",
    "\n",
    "def wilson_distribution_confidence_interval(successful_trials, total_trials, alpha):\n",
    "    z = scipy.stats.norm.ppf(1 - alpha)\n",
    "    n = total_trials\n",
    "    if n == 0:\n",
    "        return 0\n",
    "    phat = float(successful_trials) / n\n",
    "    return ((phat + z*z/(2*n) - z * sqrt((phat*(1-phat)+z*z/(4*n))/n))/(1+z*z/n)), phat\n",
    "\n",
    "def estimate_channel_fidelity(unitaries, depolarized_states, alpha):\n",
    "    depolarized_states_to_measure = []\n",
    "    for i in range(len(unitaries)):\n",
    "        unitary = unitaries[i]\n",
    "        depolarized_state = depolarized_states[i]\n",
    "        inverse_operation = np.matrix.getH(unitary)\n",
    "        depolarized_states_to_measure.append(np.matmul(np.matmul(inverse_operation,depolarized_state),unitary))\n",
    "    \n",
    "    total_states = len(depolarized_states)\n",
    "    total_correct_measurements = 0\n",
    "    measurements_list = []\n",
    "    for depolarized_state_to_measure in depolarized_states_to_measure:\n",
    "        probability_of_1 = depolarized_state_to_measure[1,1]\n",
    "        rand_num = random.uniform(0, 1)\n",
    "        if rand_num <= probability_of_1:\n",
    "            total_correct_measurements = total_correct_measurements + 1\n",
    "            measurements_list.append(1)\n",
    "        else:\n",
    "            measurements_list.append(0)\n",
    "    \n",
    "    lower_bound, _ = wilson_distribution_confidence_interval(total_correct_measurements, total_states, \n",
    "                                                             alpha)\n",
    "\n",
    "    return lower_bound, total_correct_measurements/total_states, measurements_list, total_correct_measurements"
   ]
  },
  {
   "cell_type": "markdown",
   "id": "fatty-sight",
   "metadata": {},
   "source": [
    "Test to make sure average quantum channel fidelity is being estimated properly. Modify these values to see! The 'depolarize_states' method can be replaced with other quantum channel simulations."
   ]
  },
  {
   "cell_type": "code",
   "execution_count": null,
   "id": "composed-gross",
   "metadata": {},
   "outputs": [],
   "source": [
    "num_states_used_to_estimate_fidelity = 500\n",
    "lambda_param = 0.9\n",
    "alpha = 0.05\n",
    "\n",
    "unitaries, states = generate_pairs_of_random_unitaries_and_states(num_states_used_to_estimate_fidelity)\n",
    "depolarized_states = depolarize_states(lambda_param, states)\n",
    "lower_bound, average, measurements_list, num_correct_measurements = estimate_channel_fidelity(unitaries, depolarized_states, \n",
    "                                                                                              alpha)"
   ]
  },
  {
   "cell_type": "code",
   "execution_count": null,
   "id": "improving-swedish",
   "metadata": {},
   "outputs": [],
   "source": [
    "print(lower_bound, average, num_correct_measurements)"
   ]
  },
  {
   "cell_type": "markdown",
   "id": "optimum-sitting",
   "metadata": {},
   "source": [
    "In the associated paper, channels are monitored by keeping track of the last $j$ received states for estimating average channel fidelity. Significant changes in fidelity correspond to an adversary attacking the channel. The adversary introduces disturbances on the channel given by the 'lambda_2' parameter of the below 'enqueue_measurement_result' method. 'lambda_1' and 'lambda_3' correspond to the channel(s) used by the source and destination."
   ]
  },
  {
   "cell_type": "code",
   "execution_count": null,
   "id": "continuous-clothing",
   "metadata": {},
   "outputs": [],
   "source": [
    "def enqueue_measurement_result(lambda_1, lambda_2, lambda_3, measurements_list, num_correct_measurements,\n",
    "                                   unitaries, states, current_state_and_unitary_index):\n",
    "    num_correct_measurements = num_correct_measurements - measurements_list.pop(0)\n",
    "    current_state_and_unitary_index = current_state_and_unitary_index % len(unitaries)\n",
    "    random_unitary = unitaries[current_state_and_unitary_index]\n",
    "    random_state = states[current_state_and_unitary_index]\n",
    "    \n",
    "    depolarized_state = depolarizing_channel(lambda_1, random_state)\n",
    "    \n",
    "    depolarized_state = depolarizing_channel(lambda_2, depolarized_state)\n",
    "    \n",
    "    depolarized_state = depolarizing_channel(lambda_3, depolarized_state)\n",
    "    \n",
    "    inverse_operation = np.matrix.getH(random_unitary)\n",
    "    state_to_measure = np.matmul(np.matmul(inverse_operation,depolarized_state),random_unitary)\n",
    "    \n",
    "    probability_of_1 = state_to_measure[1,1]\n",
    "    rand_num = random.uniform(0, 1)\n",
    "    if rand_num <= probability_of_1:\n",
    "        measurements_list.append(1)\n",
    "        num_correct_measurements = num_correct_measurements + 1\n",
    "    else:\n",
    "        measurements_list.append(0)\n",
    "    \n",
    "    return num_correct_measurements/len(measurements_list), measurements_list, num_correct_measurements\n",
    "    "
   ]
  },
  {
   "cell_type": "markdown",
   "id": "hairy-south",
   "metadata": {},
   "source": [
    "Test code showing how an adversary can reduce estimated average channel fidelity."
   ]
  },
  {
   "cell_type": "code",
   "execution_count": null,
   "id": "complicated-rebecca",
   "metadata": {},
   "outputs": [],
   "source": [
    "for i in range(50):\n",
    "    estimation, measurements_list, num_correct_measurements = enqueue_measurement_result(0.9, 0.7, 1, measurements_list, \n",
    "                                                                                         num_correct_measurements, unitaries, \n",
    "                                                                                         states, i)\n",
    "    print(estimation)"
   ]
  },
  {
   "cell_type": "markdown",
   "id": "surprised-insertion",
   "metadata": {},
   "source": [
    "A method for simulating how long it takes the current average channel fidelity estimate of the last $j$ transmitted qubits to drop below the initially estimated lower bound."
   ]
  },
  {
   "cell_type": "code",
   "execution_count": null,
   "id": "identical-mystery",
   "metadata": {},
   "outputs": [],
   "source": [
    "def get_qubits_needed_to_detect_possible_replay(num_trials, num_states_used_to_estimate_fidelity, lambda_1, lambda_2, lambda_3, \n",
    "                                                alpha):\n",
    "    total_num_qubits_needed_across_all_trials = 0\n",
    "    num_qubits_needed_across_all_trials = []\n",
    "    for i in range(num_trials):\n",
    "        unitaries, states = generate_pairs_of_random_unitaries_and_states(num_states_used_to_estimate_fidelity)\n",
    "        depolarized_states = depolarize_states(lambda_3, depolarize_states(lambda_1, states))\n",
    "        lower_bound, _, measurements_list, num_correct_measurements = estimate_channel_fidelity(unitaries, depolarized_states, \n",
    "                                                                                                alpha)\n",
    "        estimation = 1\n",
    "        num_qubits_needed = 0\n",
    "        while estimation > lower_bound:\n",
    "            num_qubits_needed = num_qubits_needed + 1\n",
    "            estimation, measurements_list, num_correct_measurements = enqueue_measurement_result(lambda_1, lambda_2, lambda_3,\n",
    "                                                                                                 measurements_list, \n",
    "                                                                                                 num_correct_measurements, \n",
    "                                                                                                 unitaries, states, i)\n",
    "        \n",
    "        total_num_qubits_needed_across_all_trials = total_num_qubits_needed_across_all_trials + num_qubits_needed\n",
    "        num_qubits_needed_across_all_trials.append(num_qubits_needed)\n",
    "        \n",
    "    _, _, _, confidence_interval = normal_distribution_confidence_interval(num_qubits_needed_across_all_trials)\n",
    "    \n",
    "    file_name_of_array = os.getcwd() + \"/\"\n",
    "    file_name_of_array = file_name_of_array + \"lambda_param_1_\" + str(lambda_1)\n",
    "    file_name_of_array = file_name_of_array + \"_lambda_param_2_\" + str(lambda_2)\n",
    "    file_name_of_array = file_name_of_array + \"_lambda_param_3_\" + str(lambda_3)\n",
    "    file_name_of_array = file_name_of_array + \"_alpha_\" + str(alpha)\n",
    "    file_name_of_array = file_name_of_array + \"_num_states_used_to_estimate_\" + str(num_states_used_to_estimate_fidelity)\n",
    "    file_name_of_array = file_name_of_array.replace(\".\", \"\")\n",
    "    np.save(file_name_of_array, np.array(num_qubits_needed_across_all_trials))\n",
    "    \n",
    "    return total_num_qubits_needed_across_all_trials/num_trials, confidence_interval\n"
   ]
  },
  {
   "cell_type": "code",
   "execution_count": null,
   "id": "civilian-infection",
   "metadata": {},
   "outputs": [],
   "source": [
    "num_states_used_to_estimate_fidelity = 500\n",
    "num_trials = 500\n",
    "get_qubits_needed_to_detect_possible_replay(num_trials, num_states_used_to_estimate_fidelity, 0.9, 0.5, 0.9, alpha)"
   ]
  },
  {
   "cell_type": "markdown",
   "id": "fresh-lightning",
   "metadata": {},
   "source": [
    "Running the simulation with a variety of parameters. Results are printed in plaintext and latex code tables."
   ]
  },
  {
   "cell_type": "code",
   "execution_count": null,
   "id": "helpful-tucson",
   "metadata": {},
   "outputs": [],
   "source": [
    "num_trials = 100\n",
    "alphas_to_try = [0.25,0.35]\n",
    "num_states_used_to_estimate_to_try = [250, 500, 1000]\n",
    "lambda_1_and_3_to_try = [0.85,0.9,0.95]\n",
    "lambda_2_to_try = [0.85,0.9,0.95,1.0]\n",
    "\n",
    "headers = [\"alpha\",\"number of states used to estimate\",\"lambda_1\",\"lambda_2\",\"lambda_3\",\"qubits received before noticing delay\"]\n",
    "my_data = []\n",
    "\n",
    "for alpha in alphas_to_try:\n",
    "    for num_states_used_to_estimate in num_states_used_to_estimate_to_try:\n",
    "        for lambda_1_and_3 in lambda_1_and_3_to_try:\n",
    "            for lambda_2 in lambda_2_to_try:\n",
    "                print(f\"{alpha=} {num_states_used_to_estimate=} {lambda_1_and_3=} {lambda_2=}\")\n",
    "                _, confidence_interval = get_qubits_needed_to_detect_possible_replay(num_trials, num_states_used_to_estimate, \n",
    "                                                                                     lambda_1_and_3, lambda_2, lambda_1_and_3, \n",
    "                                                                                     alpha)\n",
    "                my_data.append((alpha, num_states_used_to_estimate, lambda_1_and_3, lambda_2, lambda_1_and_3, \n",
    "                                confidence_interval))\n",
    "                print(tabulate(my_data, headers, tablefmt='grid'))\n",
    "\n",
    "print(tabulate(my_data, headers, tablefmt='latex'))\n",
    "print(tabulate(my_data, headers, tablefmt='grid'))"
   ]
  },
  {
   "cell_type": "code",
   "execution_count": null,
   "id": "piano-furniture",
   "metadata": {},
   "outputs": [],
   "source": []
  }
 ],
 "metadata": {
  "kernelspec": {
   "display_name": "Python 3",
   "language": "python",
   "name": "python3"
  },
  "language_info": {
   "codemirror_mode": {
    "name": "ipython",
    "version": 3
   },
   "file_extension": ".py",
   "mimetype": "text/x-python",
   "name": "python",
   "nbconvert_exporter": "python",
   "pygments_lexer": "ipython3",
   "version": "3.9.1"
  }
 },
 "nbformat": 4,
 "nbformat_minor": 5
}
